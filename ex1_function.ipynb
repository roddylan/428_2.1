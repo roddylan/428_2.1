{
 "cells": [
  {
   "cell_type": "code",
   "execution_count": null,
   "metadata": {},
   "outputs": [],
   "source": [
    "import numpy as np\n",
    "import matplotlib.pyplot as plt\n",
    "from mpl_toolkits.mplot3d import Axes3D"
   ]
  },
  {
   "cell_type": "code",
   "execution_count": null,
   "metadata": {},
   "outputs": [],
   "source": [
    "def transform(p: np.array, t: np.array, R: np.array):\n",
    "    # point = np.array([[p[0], p[1], p[2]]], dtype=np.float32).T\n",
    "\n",
    "    return (R @ p + t)\n",
    "\n",
    "def h_transform(h_p: np.array, t: np.array, R: np.array):\n",
    "    # h_p = np.array([[p[0], p[1], p[2], 1]], dtype=np.float32).T\n",
    "\n",
    "    H = np.hstack((R, t))\n",
    "    H = np.vstack((H, np.array([[0, 0, 0, 1]])))\n",
    "\n",
    "    return H @ h_p"
   ]
  },
  {
   "cell_type": "code",
   "execution_count": null,
   "metadata": {},
   "outputs": [],
   "source": [
    "def plot(init, trans):\n",
    "    fig = plt.figure()\n",
    "    ax=fig.add_subplot(111, projection='3d')\n",
    "    ax.scatter(init[0], init[1], init[2], marker='^', label=\"initial\")\n",
    "    ax.scatter(trans[0], trans[1], trans[2], marker='o', label=\"transformed\")\n",
    "    ax.set_xlabel('x')\n",
    "    ax.set_ylabel('y')\n",
    "    ax.set_zlabel('z')\n",
    "\n",
    "    plt.legend(loc=\"upper right\")\n",
    "    ax.set_xlim(-50, 50)\n",
    "    ax.set_ylim(-50, 50)\n",
    "    ax.set_zlim(-50, 50)\n",
    "\n",
    "    plt.show()\n",
    "\n",
    "def rz(deg):\n",
    "    rad = np.radians(deg)\n",
    "    return np.array([\n",
    "        [np.cos(rad), -np.sin(rad), 0],\n",
    "        [np.sin(rad), np.cos(rad), 0],\n",
    "        [0, 0, 1]\n",
    "    ])\n",
    "\n",
    "def ry(deg):\n",
    "    rad = np.radians(deg)\n",
    "    return np.array([\n",
    "        [np.cos(rad), 0, np.sin(rad)],\n",
    "        [0, 1, 0],\n",
    "        [-np.sin(rad), 0, np.cos(rad)]\n",
    "    ])\n",
    "\n",
    "def rx(deg):\n",
    "    rad = np.radians(deg)\n",
    "    return np.array([\n",
    "        [1, 0, 0],\n",
    "        [0, np.cos(rad), -np.sin(rad)],\n",
    "        [0, np.sin(rad), np.cos(rad)]\n",
    "    ])"
   ]
  },
  {
   "cell_type": "code",
   "execution_count": null,
   "metadata": {},
   "outputs": [],
   "source": [
    "point = np.array([[10.,10.,10.]]).T\n",
    "h_point = np.array([[10.,10.,10.,1]]).T\n",
    "\n",
    "origin = np.array([[0., 0., 0.]]).T\n",
    "h_origin = np.array([[0., 0., 0., 1.]]).T\n",
    "\n",
    "basis_x = np.array([[1., 0., 0.]]).T\n",
    "h_basis_x = np.array([[1., 0., 0., 1.]]).T\n",
    "\n",
    "basis_y = np.array([[0., 1., 0.]]).T\n",
    "h_basis_y = np.array([[0., 1., 0., 1.]]).T\n",
    "\n",
    "basis_z = np.array([[0., 0., 1.]]).T\n",
    "h_basis_z = np.array([[0., 0., 1., 1.]]).T"
   ]
  },
  {
   "cell_type": "markdown",
   "metadata": {},
   "source": [
    "## Point Transform 1"
   ]
  },
  {
   "cell_type": "code",
   "execution_count": null,
   "metadata": {},
   "outputs": [],
   "source": [
    "# translate point 20 along positive Y axis\n",
    "R = np.eye(3)\n",
    "t = np.array([[0, 20, 0]]).T\n",
    "\n",
    "p1 = transform(point, t, R)\n",
    "h_p1 = h_transform(h_point, t, R)\n",
    "\n",
    "%matplotlib widget\n",
    "plot(h_point, h_p1)"
   ]
  },
  {
   "cell_type": "markdown",
   "metadata": {},
   "source": [
    "## Point Transform 2"
   ]
  },
  {
   "cell_type": "code",
   "execution_count": null,
   "metadata": {},
   "outputs": [],
   "source": [
    "# rotate point around Z axis 30 deg\n",
    "R = rz(30)\n",
    "t = np.zeros(3).reshape(3,1)\n",
    "\n",
    "\n",
    "p2 = transform(point, t, R)\n",
    "h_p2 = h_transform(h_point, t, R)\n",
    "\n",
    "plot(h_point, h_p2)"
   ]
  },
  {
   "cell_type": "markdown",
   "metadata": {},
   "source": [
    "## Point Transform 3"
   ]
  },
  {
   "cell_type": "code",
   "execution_count": null,
   "metadata": {},
   "outputs": [],
   "source": [
    "# rotate point around Y axis -10 deg\n",
    "R = ry(-10)\n",
    "t = np.zeros(3).reshape(3,1)\n",
    "\n",
    "\n",
    "p3 = transform(point, t, R)\n",
    "h_p3 = h_transform(h_point, t, R)\n",
    "\n",
    "plot(h_point, h_p3)"
   ]
  },
  {
   "cell_type": "markdown",
   "metadata": {},
   "source": [
    "## Point Transform 4"
   ]
  },
  {
   "cell_type": "code",
   "execution_count": null,
   "metadata": {},
   "outputs": [],
   "source": [
    "# point transformation 1-3 in order\n",
    "t = np.array([[0,20,0]]).T\n",
    "R = np.eye(3)\n",
    "\n",
    "pt = transform(point, t, R)\n",
    "h_pt = h_transform(h_point, t, R)\n",
    "\n",
    "t = np.zeros(3).reshape(3,1)\n",
    "R = rz(30) @ ry(-10)\n",
    "\n",
    "p4 = transform(pt, t, R)\n",
    "h_p4 = h_transform(h_pt, t, R)\n",
    "\n",
    "%matplotlib widget\n",
    "plot(h_point, h_p4)"
   ]
  },
  {
   "cell_type": "code",
   "execution_count": null,
   "metadata": {},
   "outputs": [],
   "source": [
    "def basis(bx,by,bz):\n",
    "    b = np.hstack((bx,by,bz))\n",
    "    # b = np.vstack((b, np.array([[0, 0, 0, 1]])))\n",
    "    return b\n",
    "\n",
    "def h_basis(bx,by,bz):\n",
    "    b = np.hstack((bx[0:-1].reshape(3,1),by[0:-1].reshape(3,1),bz[0:-1].reshape(3,1),np.array([[0,0,0]]).T))\n",
    "    b = np.vstack((b, np.array([[0, 0, 0, 1]])))\n",
    "    return b\n",
    "\n",
    "def T(o):\n",
    "    ot = np.array([[1, 0, 0],\n",
    "              [0, 1, 0],\n",
    "              [0, 0, 1],\n",
    "              [0, 0, 0]])\n",
    "    ot = np.hstack((ot, o))\n",
    "\n",
    "    return ot"
   ]
  },
  {
   "cell_type": "markdown",
   "metadata": {},
   "source": [
    "## Coordinate Transformation 1"
   ]
  },
  {
   "cell_type": "code",
   "execution_count": null,
   "metadata": {},
   "outputs": [],
   "source": [
    "# translate origin 20 along positive Y axis\n",
    "t = np.array([[0, 20, 0]]).T\n",
    "R = np.eye(3)\n",
    "\n",
    "o = transform(origin, t, R)\n",
    "h_o = h_transform(h_origin, t, R)\n",
    "\n",
    "b = basis(basis_x, basis_y, basis_z)\n",
    "h_b = h_basis(h_basis_x, h_basis_y, h_basis_z)\n",
    "\n",
    "cp1 = b @ point + o\n",
    "# h_cp1 = h_b @ h_point + h_o\n",
    "h_cp1 = T(h_o) @ (h_b @ h_point)\n",
    "plot(h_point, h_cp1)\n"
   ]
  },
  {
   "cell_type": "markdown",
   "metadata": {},
   "source": [
    "## Coordinate Transformation 2"
   ]
  },
  {
   "cell_type": "code",
   "execution_count": null,
   "metadata": {},
   "outputs": [],
   "source": [
    "# rotate coordinate system around Z axis 30 deg\n",
    "R = rz(30)\n",
    "t = np.zeros(3).reshape(3,1)\n",
    "\n",
    "bx = transform(basis_x, t, R)\n",
    "by = transform(basis_y, t, R)\n",
    "bz = transform(basis_z, t, R)\n",
    "\n",
    "hbx = h_transform(h_basis_x, t, R)\n",
    "hby = h_transform(h_basis_y, t, R)\n",
    "hbz = h_transform(h_basis_z, t, R)\n",
    "\n",
    "b = basis(bx, by, bz)\n",
    "h_b = h_basis(hbx, hby, hbz)\n",
    "\n",
    "cp2 = b @ point + origin\n",
    "h_cp2 = T(h_origin) @ (h_b @ h_point)\n",
    "\n",
    "\n",
    "plot(h_point, h_cp2)"
   ]
  },
  {
   "cell_type": "markdown",
   "metadata": {},
   "source": [
    "## Coordinate Transformation 3"
   ]
  },
  {
   "cell_type": "code",
   "execution_count": null,
   "metadata": {},
   "outputs": [],
   "source": [
    "# rotate around Y axis -10 deg\n",
    "R = ry(-10)\n",
    "t = np.zeros(3).reshape(3,1)\n",
    "\n",
    "bx = transform(basis_x, t, R)\n",
    "by = transform(basis_y, t, R)\n",
    "bz = transform(basis_z, t, R)\n",
    "\n",
    "hbx = h_transform(h_basis_x, t, R)\n",
    "hby = h_transform(h_basis_y, t, R)\n",
    "hbz = h_transform(h_basis_z, t, R)\n",
    "\n",
    "b = basis(bx, by, bz)\n",
    "h_b = h_basis(hbx, hby, hbz)\n",
    "\n",
    "cp3 = b @ point + origin\n",
    "h_cp3 = T(h_origin) @ (h_b @ h_point)\n",
    "\n",
    "\n",
    "plot(h_point, h_cp3)"
   ]
  },
  {
   "cell_type": "markdown",
   "metadata": {},
   "source": [
    "## Coordinate Transformation 4"
   ]
  },
  {
   "cell_type": "code",
   "execution_count": null,
   "metadata": {},
   "outputs": [],
   "source": [
    "# coord transformation 1-3 in order\n",
    "R = np.eye(3)\n",
    "t = np.array([0, 20, 0]).reshape(3,1)\n",
    "o = transform(origin, t, R)\n",
    "h_o = h_transform(h_origin, t, R)\n",
    "\n",
    "\n",
    "R = rz(30) @ ry(-10)\n",
    "t = np.zeros(3).reshape(3,1)\n",
    "\n",
    "\n",
    "bx = transform(basis_x, t, R)\n",
    "by = transform(basis_y, t, R)\n",
    "bz = transform(basis_z, t, R)\n",
    "\n",
    "hbx = h_transform(h_basis_x, t, R)\n",
    "hby = h_transform(h_basis_y, t, R)\n",
    "hbz = h_transform(h_basis_z, t, R)\n",
    "\n",
    "b = basis(bx, by, bz)\n",
    "h_b = h_basis(hbx, hby, hbz)\n",
    "\n",
    "cp4 = b @ point + o\n",
    "h_cp4 = T(h_o) @ (h_b @ h_point)\n",
    "\n",
    "\n",
    "plot(h_point, h_cp4)"
   ]
  }
 ],
 "metadata": {
  "kernelspec": {
   "display_name": "base",
   "language": "python",
   "name": "python3"
  },
  "language_info": {
   "codemirror_mode": {
    "name": "ipython",
    "version": 3
   },
   "file_extension": ".py",
   "mimetype": "text/x-python",
   "name": "python",
   "nbconvert_exporter": "python",
   "pygments_lexer": "ipython3",
   "version": "3.10.13"
  }
 },
 "nbformat": 4,
 "nbformat_minor": 2
}
